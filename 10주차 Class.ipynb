{
 "cells": [
  {
   "cell_type": "markdown",
   "id": "ff779c70",
   "metadata": {},
   "source": [
    "객체 지향\n",
    "\n",
    "객체란?\n",
    "\n",
    "- 사물, 대상을 뜻함 : 자동차, 사람, 냉장고, 기차, 아파트\n",
    "- 보이는 것 뿐만 아니라 개념적인 것도 포함 : 수업, 학문, 운동, 음악 등\n",
    "- 실제 세계가 객체들로 구성되는 것처럼 프로그램도 객체 단위로 작성하고자함"
   ]
  },
  {
   "cell_type": "markdown",
   "id": "71234ff0",
   "metadata": {},
   "source": [
    "data before action\n",
    "- 액션 : 프로그램 입장에서 파일을 처리하고 데이터를 읽고 처리하고 프린트하고 연산을 수행하는 행위\n",
    "- 객체는 그런 액션 하나하나를 생각하기 전에 액션을 할 수 있는 데이터, 객체, 덩어리를 먼저 생각하자는 것"
   ]
  },
  {
   "cell_type": "markdown",
   "id": "395d49d9",
   "metadata": {},
   "source": [
    "객체 지향?\n",
    "- 객체 지향 프로그래밍 OOP Object-Oriented Programming\n",
    "- 파이썬, C++ 은 객체 지향 언어(C언어는 절차 지향 언어)\n",
    "- 실제 세계가 객체들로 구성되는 것처럼 프로그램도 객체 단위로 작성\n",
    "- C언어를 사용할 떄처럼 순차적으로 쭈욱 코딩하는 것이 아니라 객체를 중심으로 생각하고 객체 내부에 데이터와 기능(동작)을 포함하도록 함\n",
    "- 구현하고자 하는 기능들을 객체의 입장에서 생각하여 정의함"
   ]
  },
  {
   "cell_type": "markdown",
   "id": "b6664f31",
   "metadata": {},
   "source": [
    "###### 예제\n",
    "\n",
    "내가 서점에서 책을 사는 상황을 프로그램으로 구현한다고 가정\n",
    "객체로는 1)나(구매자) 2)서점(장소) 3)책(물건) 이 있다.\n",
    "1) 나(구매자) 설명\n",
    "\n",
    "데이터(상태) : 소유금액, 소유하고 있는 책들\n",
    "\n",
    "동작(행위) : 데이터를 초기화한다. 책을 산다. 소유 금액을 알려준다. 소유하고 있는 책들을 알려준다.\n",
    "\n",
    "2) 서점 설명\n",
    "\n",
    "데이터 : 판매 수익, 보유하고 있는 책들\n",
    "\n",
    "동작 : 데이터를 초기화한다. 책을 판다. 판매 수익을 알려준다. 보유하고 이는 책들을 알려준다.\n",
    "\n",
    "3) 책 설명\n",
    "\n",
    "데이터 : 책 제목, 책 가격\n",
    "\n",
    "동작 : 데이터를 초기화한다. 책 제목을 알려준다. 책 가격을 알려준다."
   ]
  },
  {
   "cell_type": "markdown",
   "id": "bbf1c247",
   "metadata": {},
   "source": [
    "###### *프로그램 예 : 내가 테마파크에 놀러가서 놀이기구를 타는 상황을 구현*\n",
    "\n",
    "절차적 프로그램 : 내가 놀이기구 타는 action을 우선으로 생각한다. 놀이기구 타는 action은 놀이기구 선택, 계산, 타는 과정으로 구성된다. 놀이기구 이름들을 배열 name에 저장하고 각 놀이기구 가격을 배열 price에 저장할 수 있다.\n",
    "\n",
    "객체지향 프로그램 : Action 이전에 데이터를 먼저 생각한다. 놀이기구 타는 상황을 구현하기 위해 어떤 객체가 있을 수 있는지 생각한다. 놀이기구 타는 사람, 놀이기구, 테마파크 등이 있을 수 있다."
   ]
  },
  {
   "cell_type": "markdown",
   "id": "641fee33",
   "metadata": {},
   "source": [
    "###### 객체는 클래스로 구현\n",
    "\n",
    "- 클래스는 객체를 생성하기 위한 틀, 설계도\n",
    "- 객체가 포함하는 데이터와 기능을 정의함 : 변수와 함수 사용\n",
    "\n",
    "- 클래스\n",
    " - 우리가 정의하는 데이터 타입\n",
    " - 객체를 만들기 위한 틀\n",
    " - 데이터와 함수로 구성\n",
    " \n",
    "- 객체(오브젝트)\n",
    " - 클래스로 선언하여 만든 실제 데이터 인스턴스(instance)"
   ]
  },
  {
   "cell_type": "markdown",
   "id": "7ab1dbd7",
   "metadata": {},
   "source": [
    "###### 프로그램 예 : 사각형의 가로와 세로 길이를 받아서 넓이를 계산하는 프로그램\n",
    "\n",
    "###### 절차적 프로그램 :\n",
    "\n",
    "action : 사각형 넓이를 계산해야해~ 가소와 세로를 받아야지 콘솔에서 인터랙티브하게 받자 필요 변수 선언하고(가로,세로) print로 필요한 데이터 요청, input으로 받자 그리고 계산\n",
    "\n",
    "###### 객체지향 프로그램\n",
    "\n",
    "data : 사각형 넓이를 계산하는 프로그램에서 필요한 객체가 뭐가 있을까?\n",
    "\n",
    "아무래도 사각형이겠지, 그럼 사각형을 디자인해보자\n",
    "\n",
    "사각형을 표현하는 데 필요한 데이터는? -> ㄱ로, 세로\n",
    "\n",
    "사각형이 할 수 있는 일은? -> 데이터 입력 받는 거, 사각형이 가진 데이터 보여주는 거, 넓이를 계산해주는 거\n",
    "\n",
    "얘들로 멤버 변수와 멤버 함수를 만들어보자"
   ]
  },
  {
   "cell_type": "markdown",
   "id": "2bcdca13",
   "metadata": {},
   "source": []
  },
  {
   "cell_type": "markdown",
   "id": "c46928d2",
   "metadata": {},
   "source": [
    "###### 계산기 더하기 기능"
   ]
  },
  {
   "cell_type": "code",
   "execution_count": 7,
   "id": "9b2ec5d2",
   "metadata": {},
   "outputs": [
    {
     "name": "stdout",
     "output_type": "stream",
     "text": [
      "3\n",
      "7\n"
     ]
    }
   ],
   "source": [
    "result = 0\n",
    "\n",
    "def adder(num):\n",
    "    global result  # global 넣었으므로 전역변수화\n",
    "    result += num\n",
    "    return result\n",
    "\n",
    "print(adder(3)) #기존 0에 3을 더한 값이 나옴\n",
    "print(adder(4)) #기존 0에 3을 더한 값에 4를 더한 값이 나옴. global 전역변수화했기 때문에 원래 값에 계속 더하는 것"
   ]
  },
  {
   "cell_type": "markdown",
   "id": "215a039a",
   "metadata": {},
   "source": [
    "###### 만약 계산기가 두개 필요하다면?"
   ]
  },
  {
   "cell_type": "code",
   "execution_count": 9,
   "id": "262c483b",
   "metadata": {},
   "outputs": [
    {
     "name": "stdout",
     "output_type": "stream",
     "text": [
      "3\n",
      "7\n",
      "4\n",
      "7\n"
     ]
    }
   ],
   "source": [
    "result1 = 0\n",
    "result2 = 0\n",
    "\n",
    "def adder1(num):\n",
    "    global result1\n",
    "    result1 += num\n",
    "    return result1\n",
    "\n",
    "def adder2(num):\n",
    "    global result2\n",
    "    result2 += num\n",
    "    return result2\n",
    "\n",
    "print(adder1(3))\n",
    "print(adder1(4))\n",
    "print(adder2(4))\n",
    "print(adder2(3))"
   ]
  },
  {
   "cell_type": "markdown",
   "id": "a4e8f830",
   "metadata": {},
   "source": [
    "###### 계산기가 여러 개 필요하면 계속 이걸 adder N 으로 만들어 내야 하는건가? -> NO, 클래스 있으면 됨\n",
    "\n",
    "클래스로 계산기 틀을 만들고, 똑같은 틀을 가진 객체를 생성할 때마다 그 클래스를 가져오는 원리\n",
    "\n",
    "클래스 사용, 계산기 객체 여러 개 생성\n",
    "\n",
    "클래스는 일종의 틀이며 그걸로 만드는 것이 객체이다"
   ]
  },
  {
   "cell_type": "code",
   "execution_count": 11,
   "id": "2dd0f127",
   "metadata": {},
   "outputs": [
    {
     "name": "stdout",
     "output_type": "stream",
     "text": [
      "3\n",
      "7\n",
      "3\n",
      "10\n"
     ]
    }
   ],
   "source": [
    "class Calculator:        #클래스의 이름을 Calculator로\n",
    "    def __init__(self):  #언더바 두 개씩 앞뒤로\n",
    "        self.result = 0  #자기 자신(self)안에 계산된 결과 result 를 저장하는 변수를 만들고 0으로 초기값 세팅\n",
    "    def adder(self, num): #클래스에서는 맨 앞에 self가 옴 받을 변수는 num\n",
    "        self.result += num\n",
    "        return self.result\n",
    "    \n",
    "cal1 = Calculator()  # 위에서 만든 클래스(설계도)를 가져와서 cal1 이라는 변수를 선언\n",
    "cal2 = Calculator()  # 기존 선언과의 차이는 뒤에 ()가 붙네?\n",
    "\n",
    "print(cal1.adder(3))\n",
    "print(cal1.adder(4))\n",
    "print(cal2.adder(3))\n",
    "print(cal2.adder(7))"
   ]
  },
  {
   "cell_type": "code",
   "execution_count": 16,
   "id": "94800c45",
   "metadata": {},
   "outputs": [
    {
     "name": "stdout",
     "output_type": "stream",
     "text": [
      "127\n"
     ]
    }
   ],
   "source": [
    "print(cal1.adder(120))"
   ]
  },
  {
   "cell_type": "code",
   "execution_count": 26,
   "id": "d002aa8b",
   "metadata": {},
   "outputs": [],
   "source": [
    "class Calculator:        #클래스의 이름을 Calculator로\n",
    "    def __init__(self):  #언더바 두 개씩 앞뒤로\n",
    "        self.result = 0  #자기 자신(self)안에 계산된 결과 result 를 저장하는 변수를 만들고 0으로 초기값 세팅\n",
    "    def adder(self, num): #클래스에서는 맨 앞에 self가 옴 받을 변수는 num\n",
    "        self.result += num\n",
    "        return self.result\n",
    "    def reset(self):\n",
    "        self.result = 0\n",
    "        return self.result"
   ]
  },
  {
   "cell_type": "code",
   "execution_count": 27,
   "id": "ccc3cfa1",
   "metadata": {},
   "outputs": [
    {
     "name": "stdout",
     "output_type": "stream",
     "text": [
      "10\n",
      "0\n"
     ]
    }
   ],
   "source": [
    "cal3 = Calculator()\n",
    "print(cal3.adder(10))\n",
    "print(cal3.reset())"
   ]
  },
  {
   "cell_type": "markdown",
   "id": "ae8c6e42",
   "metadata": {},
   "source": [
    "###### 객체와 인스턴스(instance)\n",
    "\n",
    "- 클래스로 만든 객체를 인스턴스라고도 함\n",
    "- 객체와 인스턴스는 용법에서 약간의 차이\n",
    " - cal1은 객체\n",
    " - cal1은 Calculator의 인스턴스 : 인스턴스라는 표현은 ~의(어떤것을 가져다 쓴) 인스턴스다 라는 표현으로 씀\n",
    " \n",
    "- 즉, 인스턴스는 어떤 클래스로 만들었는지가 명시될 때 주로 사용함"
   ]
  },
  {
   "cell_type": "markdown",
   "id": "761eac0a",
   "metadata": {},
   "source": [
    "#### 클래스 변수\n",
    "\n",
    "- 클래스 안에는 당연히 변수가 있다 가령 Calculator의 변수에는 result가 있었다.\n",
    "- 클래스의 틀 을 만들고\n",
    "- 이걸 기반으로 cal1이라는 객체를 만들었었다. \n",
    "\n",
    "- 변수이긴 변수인데 객체를 만들었을 때만 쓸 수 있는 객체 변수가 있고, 클래스만의 특별한 \"클래스 변수\"라고도 있다. def 밖에 있다. 클래스 바로 밑에 정의해준다"
   ]
  },
  {
   "cell_type": "code",
   "execution_count": 32,
   "id": "6390ece5",
   "metadata": {},
   "outputs": [
    {
     "data": {
      "text/plain": [
       "'클래스 변수는 어디에 쓰는 것인가? 클래스를 설명할 때 쓰는 것인가?'"
      ]
     },
     "execution_count": 32,
     "metadata": {},
     "output_type": "execute_result"
    }
   ],
   "source": [
    "class Service:\n",
    "    secret = \"클래스 변수는 어디에 쓰는 것인가? 클래스를 설명할 때 쓰는 것인가?\"\n",
    "    \n",
    "    # 여기에서 secret은 def 밖에 있는 변수로 이를 \"클래스 변수\"라고 부른다.\n",
    "\n",
    "s = Service()\n",
    "\n",
    "s.secret"
   ]
  },
  {
   "cell_type": "markdown",
   "id": "9bc12556",
   "metadata": {},
   "source": [
    "##### 파이썬에서 클래스 변수는 객체를 통하지 않고도 직접적인 접근이 가능하다!"
   ]
  },
  {
   "cell_type": "code",
   "execution_count": 35,
   "id": "e44e2419",
   "metadata": {},
   "outputs": [
    {
     "data": {
      "text/plain": [
       "'클래스 변수는 어디에 쓰는 것인가? 클래스를 설명할 때 쓰는 것인가?'"
      ]
     },
     "execution_count": 35,
     "metadata": {},
     "output_type": "execute_result"
    }
   ],
   "source": [
    "s2 = Service()\n",
    "s2.secret       # 일반적인 변수라면 일단 클래스를 객체 s2를 통해 선언한 후 클래스 내의 변수를 불러와야 하는데"
   ]
  },
  {
   "cell_type": "code",
   "execution_count": 36,
   "id": "063b19cb",
   "metadata": {},
   "outputs": [
    {
     "data": {
      "text/plain": [
       "'클래스 변수는 어디에 쓰는 것인가? 클래스를 설명할 때 쓰는 것인가?'"
      ]
     },
     "execution_count": 36,
     "metadata": {},
     "output_type": "execute_result"
    }
   ],
   "source": [
    "Service.secret # 클래스 변수는 클래스명.변수명 으로 바로 불러올 수 있다"
   ]
  },
  {
   "cell_type": "code",
   "execution_count": 37,
   "id": "517a7068",
   "metadata": {},
   "outputs": [
    {
     "ename": "AttributeError",
     "evalue": "type object 'Calculator' has no attribute 'result'",
     "output_type": "error",
     "traceback": [
      "\u001b[1;31m---------------------------------------------------------------------------\u001b[0m",
      "\u001b[1;31mAttributeError\u001b[0m                            Traceback (most recent call last)",
      "\u001b[1;32m~\\AppData\\Local\\Temp\\ipykernel_18796\\3099568802.py\u001b[0m in \u001b[0;36m<module>\u001b[1;34m\u001b[0m\n\u001b[1;32m----> 1\u001b[1;33m \u001b[0mCalculator\u001b[0m\u001b[1;33m.\u001b[0m\u001b[0mresult\u001b[0m \u001b[1;31m# result는 일반 변수이지 클래스 변수가 아니라서 불러올 수가 없다\u001b[0m\u001b[1;33m\u001b[0m\u001b[1;33m\u001b[0m\u001b[0m\n\u001b[0m",
      "\u001b[1;31mAttributeError\u001b[0m: type object 'Calculator' has no attribute 'result'"
     ]
    }
   ],
   "source": [
    "Calculator.result # result는 일반 변수이지 클래스 변수가 아니라서 불러올 수가 없다"
   ]
  },
  {
   "cell_type": "markdown",
   "id": "fca88269",
   "metadata": {},
   "source": [
    "##### 클래스 내부의 함수(메서드 : method)\n",
    "\n",
    "- 아래의 sum 함수는 3개의 매개변수를 필요로 하는 함수이지만, 사용할 때에는 self를 제외한 나머지 값만 받는다.\n",
    "- an.sum(1,1)로 함수 호출시, self라는 인수에는 호출할 때 이용했던 객체 an이 자동으로 전달되기 때문이다\n",
    "- 메서드의 첫번째 파라메터는 자신을 전달하므로 주로 self라는 이름을 사용한다. 다른 이름 써도 되나 가독성이 떨어진다."
   ]
  },
  {
   "cell_type": "code",
   "execution_count": 45,
   "id": "de63e62c",
   "metadata": {},
   "outputs": [
    {
     "name": "stdout",
     "output_type": "stream",
     "text": [
      "1 + 1 = 2이다.\n"
     ]
    }
   ],
   "source": [
    "class Service:\n",
    "    secret = \"지구는 4006년에 멸망한다.\"\n",
    "    def sum(self, a, b):      # 클래스 안에 sum이라는 함수를 만들어 넣은 것. 이게 바로 메서드다. self는 자기자신이라 쓰지는 않음\n",
    "        result = a + b\n",
    "        print(\"%s + %s = %s이다.\" %(a, b, result)) # 숫자인데왜 %s (string)인가?\n",
    "\n",
    "an = Service()\n",
    "\n",
    "an.sum(1,1)"
   ]
  },
  {
   "cell_type": "code",
   "execution_count": 44,
   "id": "65a3f373",
   "metadata": {},
   "outputs": [
    {
     "name": "stdout",
     "output_type": "stream",
     "text": [
      "2 + 3 = 5이다.\n"
     ]
    }
   ],
   "source": [
    "class Service2:\n",
    "    secret = \"지구는 4006년에 멸망한다.\"\n",
    "    def sum(self, a, b):\n",
    "        result = a + b\n",
    "        print(\"%d + %d = %d이다.\" %(a, b, result)) # %d 도 되네 ㅎ\n",
    "\n",
    "am = Service2()\n",
    "\n",
    "am.sum(2,3)"
   ]
  },
  {
   "cell_type": "markdown",
   "id": "cbde5a28",
   "metadata": {},
   "source": [
    "#### Service 클래스 업그레이드\n",
    "\n",
    "- an 이라는 객체에서 setname을 호출하여 an.name = name 이 실행\n",
    "- 위와 같은 방법으로 객체변수를 생성할 수 있음\n",
    "- 객체변수는 객체만의 변수를 의미함"
   ]
  },
  {
   "cell_type": "code",
   "execution_count": 51,
   "id": "524d405f",
   "metadata": {},
   "outputs": [
    {
     "name": "stdout",
     "output_type": "stream",
     "text": [
      "박달도사님, 1 + 1 = 2입니다.\n"
     ]
    }
   ],
   "source": [
    "class Service:\n",
    "    secret = \"지구는 4006년에 멸망한다.\"\n",
    "    def setname(self, name):  # 매개변수에서 받는 name임\n",
    "        self.name = name          # self.name의 name은 클래스 안에 정의된 name임. 위에 name과 다름\n",
    "    def sum(self, a, b):\n",
    "        result = a + b\n",
    "        print(\"%s님, %s + %s = %s입니다.\" %(self.name, a, b, result))\n",
    "\n",
    "an = Service()\n",
    "an.setname(\"박달도사\")\n",
    "an.sum(1,1)"
   ]
  },
  {
   "cell_type": "markdown",
   "id": "09792dd9",
   "metadata": {},
   "source": [
    "##### 클래스 변수는 공유되는 변수, 객체 변수는 객체별로 고유한 값 저장 → 어려우니 스킵한다"
   ]
  },
  {
   "cell_type": "markdown",
   "id": "0a46d0d5",
   "metadata": {},
   "source": [
    "#### __init__ 은 무엇인가?\n",
    "\n",
    "- 지금까지로는 다음과 같은 문제 발생\n",
    " - setname을 호출하지 않는 경우"
   ]
  },
  {
   "cell_type": "code",
   "execution_count": 53,
   "id": "e2221531",
   "metadata": {},
   "outputs": [
    {
     "ename": "AttributeError",
     "evalue": "'Service' object has no attribute 'name'",
     "output_type": "error",
     "traceback": [
      "\u001b[1;31m---------------------------------------------------------------------------\u001b[0m",
      "\u001b[1;31mAttributeError\u001b[0m                            Traceback (most recent call last)",
      "\u001b[1;32m~\\AppData\\Local\\Temp\\ipykernel_18796\\1820529942.py\u001b[0m in \u001b[0;36m<module>\u001b[1;34m\u001b[0m\n\u001b[0;32m      1\u001b[0m \u001b[0mlee\u001b[0m \u001b[1;33m=\u001b[0m \u001b[0mService\u001b[0m\u001b[1;33m(\u001b[0m\u001b[1;33m)\u001b[0m\u001b[1;33m\u001b[0m\u001b[1;33m\u001b[0m\u001b[0m\n\u001b[1;32m----> 2\u001b[1;33m \u001b[0mlee\u001b[0m\u001b[1;33m.\u001b[0m\u001b[0msum\u001b[0m\u001b[1;33m(\u001b[0m\u001b[1;36m1\u001b[0m\u001b[1;33m,\u001b[0m\u001b[1;36m1\u001b[0m\u001b[1;33m)\u001b[0m\u001b[1;33m\u001b[0m\u001b[1;33m\u001b[0m\u001b[0m\n\u001b[0m\u001b[0;32m      3\u001b[0m \u001b[1;33m\u001b[0m\u001b[0m\n\u001b[0;32m      4\u001b[0m \u001b[1;31m# lee 님 1+1는 2입니다. 라는 결과를 보고 싶은데, 위의 방식으로 하려면\u001b[0m\u001b[1;33m\u001b[0m\u001b[1;33m\u001b[0m\u001b[0m\n\u001b[0;32m      5\u001b[0m \u001b[1;31m# lee를 an.setname(\"lee\")로 setname을 설정해주고 진행해야 함.\u001b[0m\u001b[1;33m\u001b[0m\u001b[1;33m\u001b[0m\u001b[0m\n",
      "\u001b[1;32m~\\AppData\\Local\\Temp\\ipykernel_18796\\1134607526.py\u001b[0m in \u001b[0;36msum\u001b[1;34m(self, a, b)\u001b[0m\n\u001b[0;32m      5\u001b[0m     \u001b[1;32mdef\u001b[0m \u001b[0msum\u001b[0m\u001b[1;33m(\u001b[0m\u001b[0mself\u001b[0m\u001b[1;33m,\u001b[0m \u001b[0ma\u001b[0m\u001b[1;33m,\u001b[0m \u001b[0mb\u001b[0m\u001b[1;33m)\u001b[0m\u001b[1;33m:\u001b[0m\u001b[1;33m\u001b[0m\u001b[1;33m\u001b[0m\u001b[0m\n\u001b[0;32m      6\u001b[0m         \u001b[0mresult\u001b[0m \u001b[1;33m=\u001b[0m \u001b[0ma\u001b[0m \u001b[1;33m+\u001b[0m \u001b[0mb\u001b[0m\u001b[1;33m\u001b[0m\u001b[1;33m\u001b[0m\u001b[0m\n\u001b[1;32m----> 7\u001b[1;33m         \u001b[0mprint\u001b[0m\u001b[1;33m(\u001b[0m\u001b[1;34m\"%s님, %s + %s = %s입니다.\"\u001b[0m \u001b[1;33m%\u001b[0m\u001b[1;33m(\u001b[0m\u001b[0mself\u001b[0m\u001b[1;33m.\u001b[0m\u001b[0mname\u001b[0m\u001b[1;33m,\u001b[0m \u001b[0ma\u001b[0m\u001b[1;33m,\u001b[0m \u001b[0mb\u001b[0m\u001b[1;33m,\u001b[0m \u001b[0mresult\u001b[0m\u001b[1;33m)\u001b[0m\u001b[1;33m)\u001b[0m\u001b[1;33m\u001b[0m\u001b[1;33m\u001b[0m\u001b[0m\n\u001b[0m\u001b[0;32m      8\u001b[0m \u001b[1;33m\u001b[0m\u001b[0m\n\u001b[0;32m      9\u001b[0m \u001b[0man\u001b[0m \u001b[1;33m=\u001b[0m \u001b[0mService\u001b[0m\u001b[1;33m(\u001b[0m\u001b[1;33m)\u001b[0m\u001b[1;33m\u001b[0m\u001b[1;33m\u001b[0m\u001b[0m\n",
      "\u001b[1;31mAttributeError\u001b[0m: 'Service' object has no attribute 'name'"
     ]
    }
   ],
   "source": [
    "lee = Service()\n",
    "lee.sum(1,1)\n",
    "\n",
    "# lee 님 1+1는 2입니다. 라는 결과를 보고 싶은데, 위의 방식으로 하려면\n",
    "# lee를 an.setname(\"lee\")로 setname을 설정해주고 진행해야 함.\n",
    "# 바빠 죽겠는데 이것저것 설정할 게 많다는 것. 이를 대체하는게 __init__"
   ]
  },
  {
   "cell_type": "markdown",
   "id": "b3052c80",
   "metadata": {},
   "source": [
    "##### 객체를 생성하면서 동시에 이름을 입력하도록 바꾸면 편해진다."
   ]
  },
  {
   "cell_type": "code",
   "execution_count": 54,
   "id": "28f78c75",
   "metadata": {},
   "outputs": [],
   "source": [
    "class Service:\n",
    "    secret = \"exhausted\"\n",
    "    def __init__(self, name):\n",
    "        self.name = name     \n",
    "    def sum(self, a, b):\n",
    "        result = a + b\n",
    "        print(\"%s님, %s + %s = %s입니다.\" %(self.name, a, b, result))"
   ]
  },
  {
   "cell_type": "code",
   "execution_count": 55,
   "id": "edc3845f",
   "metadata": {},
   "outputs": [
    {
     "name": "stdout",
     "output_type": "stream",
     "text": [
      "박달도사님, 1 + 1 = 2입니다.\n"
     ]
    }
   ],
   "source": [
    "an = Service(\"박달도사\")\n",
    "an.sum(1,1)\n",
    "\n",
    "# 객체에 클래스를 불러온 후 an.setname(\"박달도사\")로 별도 설정했어야 하는데,\n",
    "# 어차피 클래스 불러올 거 __init__을 써서 한번에 불러오는 셈이 됨."
   ]
  },
  {
   "cell_type": "code",
   "execution_count": 56,
   "id": "21593c21",
   "metadata": {},
   "outputs": [
    {
     "ename": "TypeError",
     "evalue": "__init__() missing 1 required positional argument: 'name'",
     "output_type": "error",
     "traceback": [
      "\u001b[1;31m---------------------------------------------------------------------------\u001b[0m",
      "\u001b[1;31mTypeError\u001b[0m                                 Traceback (most recent call last)",
      "\u001b[1;32m~\\AppData\\Local\\Temp\\ipykernel_18796\\2477673300.py\u001b[0m in \u001b[0;36m<module>\u001b[1;34m\u001b[0m\n\u001b[1;32m----> 1\u001b[1;33m \u001b[0man\u001b[0m \u001b[1;33m=\u001b[0m \u001b[0mService\u001b[0m\u001b[1;33m(\u001b[0m\u001b[1;33m)\u001b[0m\u001b[1;33m\u001b[0m\u001b[1;33m\u001b[0m\u001b[0m\n\u001b[0m\u001b[0;32m      2\u001b[0m \u001b[1;31m# 다만 이 경우에는 처음에 클래스 불러올 때 괄호() 안에 무조건 name을 넣어줘야 함\u001b[0m\u001b[1;33m\u001b[0m\u001b[1;33m\u001b[0m\u001b[0m\n",
      "\u001b[1;31mTypeError\u001b[0m: __init__() missing 1 required positional argument: 'name'"
     ]
    }
   ],
   "source": [
    "an = Service()\n",
    "# 다만 이 경우에는 처음에 클래스 불러올 때 괄호() 안에 무조건 name을 넣어줘야 함"
   ]
  },
  {
   "cell_type": "markdown",
   "id": "34bdbe9e",
   "metadata": {},
   "source": [
    "#### 클래스의 구조 정리"
   ]
  },
  {
   "attachments": {
    "class.jpg": {
     "image/jpeg": "[encoded data removed]"
    }
   },
   "cell_type": "markdown",
   "id": "093676a9",
   "metadata": {},
   "source": [
    "![class.jpg](attachment:class.jpg)"
   ]
  },
  {
   "cell_type": "markdown",
   "id": "4d7fb792",
   "metadata": {},
   "source": [
    "##### 사칙연산 클래스\n",
    "\n",
    "- 사칙연산을 할 수 있는 클래스 FourCal"
   ]
  },
  {
   "cell_type": "code",
   "execution_count": 59,
   "id": "2de58956",
   "metadata": {},
   "outputs": [
    {
     "data": {
      "text/plain": [
       "__main__.FourCal"
      ]
     },
     "execution_count": 59,
     "metadata": {},
     "output_type": "execute_result"
    }
   ],
   "source": [
    "# 일단 아무것도 안하는 껍데기 클래스를 만들어 보자\n",
    "class FourCal:\n",
    "    pass\n",
    "\n",
    "a = FourCal()\n",
    "type(a)"
   ]
  },
  {
   "cell_type": "code",
   "execution_count": 60,
   "id": "e184e181",
   "metadata": {},
   "outputs": [
    {
     "name": "stdout",
     "output_type": "stream",
     "text": [
      "4\n",
      "2\n"
     ]
    }
   ],
   "source": [
    "# 데이터 세팅을 한다\n",
    "class FourCal:\n",
    "    def setdata(self, first, second):\n",
    "        self.first = first\n",
    "        self.second = second\n",
    "        \n",
    "a = FourCal()\n",
    "a.setdata(4,2)\n",
    "\n",
    "print(a.first)\n",
    "print(a.second)"
   ]
  },
  {
   "cell_type": "code",
   "execution_count": 63,
   "id": "050d7e93",
   "metadata": {},
   "outputs": [
    {
     "name": "stdout",
     "output_type": "stream",
     "text": [
      "4\n",
      "2\n",
      "6\n"
     ]
    }
   ],
   "source": [
    "# 더하기를 집어넣자\n",
    "class FourCal:\n",
    "    def setdata(self, first, second):\n",
    "        self.first = first\n",
    "        self.second = second\n",
    "    def sum(self):\n",
    "        result = self.first + self.second\n",
    "        return result\n",
    "        \n",
    "a = FourCal()\n",
    "a.setdata(4,2)\n",
    "\n",
    "print(a.first)\n",
    "print(a.second)\n",
    "print(a.sum())"
   ]
  },
  {
   "cell_type": "code",
   "execution_count": 68,
   "id": "87d76e34",
   "metadata": {},
   "outputs": [
    {
     "name": "stdout",
     "output_type": "stream",
     "text": [
      "6\n",
      "8\n",
      "2\n",
      "2.0\n"
     ]
    }
   ],
   "source": [
    "# 나머지도 집어넣자\n",
    "class FourCal:\n",
    "    def setdata(self, first, second):\n",
    "        self.first = first\n",
    "        self.second = second\n",
    "    def sum(self):\n",
    "        result = self.first + self.second\n",
    "        return result\n",
    "    def mul(self):\n",
    "        result = self.first * self.second\n",
    "        return result\n",
    "    def sub(self):\n",
    "        result = self.first - self.second\n",
    "        return result\n",
    "    def div(self):\n",
    "        result = self.first / self.second\n",
    "        return result\n",
    "\n",
    "a = FourCal()\n",
    "a.setdata(4,2)\n",
    "\n",
    "print(a.sum())\n",
    "print(a.mul())\n",
    "print(a.sub())\n",
    "print(a.div())"
   ]
  },
  {
   "cell_type": "code",
   "execution_count": 67,
   "id": "a471adcd",
   "metadata": {},
   "outputs": [
    {
     "name": "stdout",
     "output_type": "stream",
     "text": [
      "10\n",
      "16\n",
      "6\n",
      "4.0\n"
     ]
    }
   ],
   "source": [
    "# init 도 써보자\n",
    "class FourCal:\n",
    "    def __init__(self, first, second):\n",
    "        self.first = first\n",
    "        self.second = second\n",
    "    def sum(self):\n",
    "        result = self.first + self.second\n",
    "        return result\n",
    "    def mul(self):\n",
    "        result = self.first * self.second\n",
    "        return result\n",
    "    def sub(self):\n",
    "        result = self.first - self.second\n",
    "        return result\n",
    "    def div(self):\n",
    "        result = self.first / self.second\n",
    "        return result\n",
    "\n",
    "a = FourCal(8,2)\n",
    "\n",
    "print(a.sum())\n",
    "print(a.mul())\n",
    "print(a.sub())\n",
    "print(a.div())"
   ]
  },
  {
   "cell_type": "code",
   "execution_count": null,
   "id": "fd1aa7ce",
   "metadata": {},
   "outputs": [],
   "source": []
  }
 ],
 "metadata": {
  "kernelspec": {
   "display_name": "Python 3 (ipykernel)",
   "language": "python",
   "name": "python3"
  },
  "language_info": {
   "codemirror_mode": {
    "name": "ipython",
    "version": 3
   },
   "file_extension": ".py",
   "mimetype": "text/x-python",
   "name": "python",
   "nbconvert_exporter": "python",
   "pygments_lexer": "ipython3",
   "version": "3.9.13"
  }
 },
 "nbformat": 4,
 "nbformat_minor": 5
}
