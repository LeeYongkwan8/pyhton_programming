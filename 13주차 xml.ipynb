{
 "cells": [
  {
   "cell_type": "code",
   "execution_count": 2,
   "id": "b6b1abcb",
   "metadata": {},
   "outputs": [
    {
     "name": "stdout",
     "output_type": "stream",
     "text": [
      "menu\n"
     ]
    }
   ],
   "source": [
    "import xml.etree.ElementTree as et\n",
    "tree = et.ElementTree(file='menu.xml')\n",
    "root = tree.getroot()\n",
    "\n",
    "print(root.tag)"
   ]
  },
  {
   "cell_type": "code",
   "execution_count": 3,
   "id": "86ce1e41",
   "metadata": {},
   "outputs": [
    {
     "data": {
      "text/plain": [
       "xml.etree.ElementTree.Element"
      ]
     },
     "execution_count": 3,
     "metadata": {},
     "output_type": "execute_result"
    }
   ],
   "source": [
    "type(root)"
   ]
  },
  {
   "cell_type": "code",
   "execution_count": 4,
   "id": "7c277fdc",
   "metadata": {},
   "outputs": [
    {
     "name": "stdout",
     "output_type": "stream",
     "text": [
      "tag: breakfast attributes: {'hours': '7-11'}\n",
      "\ttag: item attributes: {'price': '$6.00'}\n",
      "\ttag: item attributes: {'price': '$4.00'}\n",
      "tag: lunch attributes: {'hours': '11-3'}\n",
      "\ttag: item attributes: {'price': '$5.00'}\n",
      "tag: dinner attributes: {'hours': '3-10'}\n",
      "\ttag: item attributes: {'price': '8.00'}\n"
     ]
    }
   ],
   "source": [
    "for child in root:\n",
    "    print('tag:', child.tag, 'attributes:', child.attrib)\n",
    "    for grandchild in child:\n",
    "        print('\\ttag:', grandchild.tag, 'attributes:', grandchild.attrib)"
   ]
  },
  {
   "cell_type": "code",
   "execution_count": 5,
   "id": "9c5c334e",
   "metadata": {},
   "outputs": [
    {
     "data": {
      "text/plain": [
       "3"
      ]
     },
     "execution_count": 5,
     "metadata": {},
     "output_type": "execute_result"
    }
   ],
   "source": [
    "len(root)"
   ]
  },
  {
   "cell_type": "code",
   "execution_count": 6,
   "id": "add00132",
   "metadata": {},
   "outputs": [
    {
     "data": {
      "text/plain": [
       "2"
      ]
     },
     "execution_count": 6,
     "metadata": {},
     "output_type": "execute_result"
    }
   ],
   "source": [
    "len(root[0])"
   ]
  },
  {
   "cell_type": "code",
   "execution_count": 7,
   "id": "3f9df8f9",
   "metadata": {},
   "outputs": [
    {
     "data": {
      "text/plain": [
       "xml.etree.ElementTree.Element"
      ]
     },
     "execution_count": 7,
     "metadata": {},
     "output_type": "execute_result"
    }
   ],
   "source": [
    "type(root[0])"
   ]
  },
  {
   "cell_type": "code",
   "execution_count": 8,
   "id": "ed8bcae9",
   "metadata": {},
   "outputs": [
    {
     "name": "stdout",
     "output_type": "stream",
     "text": [
      "<Element 'breakfast' at 0x00000111DA0931D0>\n",
      "7-11\n",
      "['hours']\n",
      "[('hours', '7-11')]\n"
     ]
    }
   ],
   "source": [
    "print(root[0])\n",
    "print(root[0].get(\"hours\"))\n",
    "print(root[0].keys())\n",
    "print(root[0].items())"
   ]
  },
  {
   "cell_type": "code",
   "execution_count": 9,
   "id": "4e9adc6e",
   "metadata": {},
   "outputs": [
    {
     "name": "stdout",
     "output_type": "stream",
     "text": [
      "<Element 'lunch' at 0x00000111DA0934A0>\n",
      "11-3\n",
      "['hours']\n",
      "[('hours', '11-3')]\n"
     ]
    }
   ],
   "source": [
    "lunch = root.find(\"lunch\")\n",
    "print(lunch)\n",
    "print(lunch.get(\"hours\"))\n",
    "print(lunch.keys())\n",
    "print(lunch.items())"
   ]
  },
  {
   "cell_type": "code",
   "execution_count": 10,
   "id": "c948abbe",
   "metadata": {},
   "outputs": [
    {
     "data": {
      "text/plain": [
       "xml.etree.ElementTree.Element"
      ]
     },
     "execution_count": 10,
     "metadata": {},
     "output_type": "execute_result"
    }
   ],
   "source": [
    "type(lunch)"
   ]
  },
  {
   "cell_type": "code",
   "execution_count": 11,
   "id": "d8555787",
   "metadata": {},
   "outputs": [
    {
     "name": "stdout",
     "output_type": "stream",
     "text": [
      "[<Element 'item' at 0x00000111DA0933B0>, <Element 'item' at 0x00000111DA093450>]\n"
     ]
    }
   ],
   "source": [
    "print(root[0].findall('item'))"
   ]
  },
  {
   "cell_type": "code",
   "execution_count": 12,
   "id": "aa91db27",
   "metadata": {},
   "outputs": [
    {
     "name": "stdout",
     "output_type": "stream",
     "text": [
      "[<Element 'item' at 0x00000111DA0933B0>, <Element 'item' at 0x00000111DA093450>]\n",
      "None\n",
      "breakfast burritos\n",
      "None\n",
      "pancakes\n"
     ]
    }
   ],
   "source": [
    "print(root[0].findall('item'))\n",
    "for item in root[0].findall('item'):\n",
    "    print(item.get('pride'))\n",
    "    print(item.text)"
   ]
  },
  {
   "cell_type": "markdown",
   "id": "6f8dbe0b",
   "metadata": {},
   "source": [
    "jason"
   ]
  },
  {
   "cell_type": "code",
   "execution_count": 13,
   "id": "1d433599",
   "metadata": {},
   "outputs": [],
   "source": [
    "import json"
   ]
  },
  {
   "cell_type": "code",
   "execution_count": 14,
   "id": "01f3e5f8",
   "metadata": {},
   "outputs": [
    {
     "data": {
      "text/plain": [
       "{'name': '홍길동', 'birth': '0525', 'age': 30}"
      ]
     },
     "execution_count": 14,
     "metadata": {},
     "output_type": "execute_result"
    }
   ],
   "source": [
    "j1 = {\"name\":\"홍길동\", \"birth\": \"0525\", \"age\": 30}\n",
    "j1"
   ]
  },
  {
   "cell_type": "code",
   "execution_count": 15,
   "id": "82972b90",
   "metadata": {},
   "outputs": [
    {
     "data": {
      "text/plain": [
       "'{\"name\": \"\\\\ud64d\\\\uae38\\\\ub3d9\", \"birth\": \"0525\", \"age\": 30}'"
      ]
     },
     "execution_count": 15,
     "metadata": {},
     "output_type": "execute_result"
    }
   ],
   "source": [
    "json.dumps(j1)"
   ]
  },
  {
   "cell_type": "code",
   "execution_count": 16,
   "id": "120219f8",
   "metadata": {},
   "outputs": [
    {
     "name": "stdout",
     "output_type": "stream",
     "text": [
      "{\n",
      "  \"name\": \"\\ud64d\\uae38\\ub3d9\",\n",
      "  \"birth\": \"0525\",\n",
      "  \"age\": 30\n",
      "}\n"
     ]
    }
   ],
   "source": [
    "print(json.dumps(j1, indent=2))"
   ]
  },
  {
   "cell_type": "code",
   "execution_count": 18,
   "id": "71527c11",
   "metadata": {},
   "outputs": [
    {
     "data": {
      "text/plain": [
       "'[1, 2, 3]'"
      ]
     },
     "execution_count": 18,
     "metadata": {},
     "output_type": "execute_result"
    }
   ],
   "source": [
    "json.dumps([1, 2, 3])"
   ]
  },
  {
   "cell_type": "code",
   "execution_count": 19,
   "id": "831143c0",
   "metadata": {},
   "outputs": [
    {
     "data": {
      "text/plain": [
       "'[4, 5, 6]'"
      ]
     },
     "execution_count": 19,
     "metadata": {},
     "output_type": "execute_result"
    }
   ],
   "source": [
    "json.dumps((4, 5, 6))"
   ]
  },
  {
   "cell_type": "code",
   "execution_count": 20,
   "id": "a5559b88",
   "metadata": {},
   "outputs": [
    {
     "data": {
      "text/plain": [
       "{'name': '홍길동', 'birth': '0525', 'age': 30}"
      ]
     },
     "execution_count": 20,
     "metadata": {},
     "output_type": "execute_result"
    }
   ],
   "source": [
    "j1 = {\"name\":\"홍길동\", \"birth\": \"0525\", \"age\": 30}\n",
    "d1 = json.dumps(j1)\n",
    "json.loads(d1)"
   ]
  }
 ],
 "metadata": {
  "kernelspec": {
   "display_name": "Python 3 (ipykernel)",
   "language": "python",
   "name": "python3"
  },
  "language_info": {
   "codemirror_mode": {
    "name": "ipython",
    "version": 3
   },
   "file_extension": ".py",
   "mimetype": "text/x-python",
   "name": "python",
   "nbconvert_exporter": "python",
   "pygments_lexer": "ipython3",
   "version": "3.9.13"
  }
 },
 "nbformat": 4,
 "nbformat_minor": 5
}
