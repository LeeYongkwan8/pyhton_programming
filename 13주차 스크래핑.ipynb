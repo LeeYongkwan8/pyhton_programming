{
 "cells": [
  {
   "cell_type": "markdown",
   "id": "bc641b44",
   "metadata": {
    "id": "bc641b44"
   },
   "source": [
    "# 02-2 스크래핑 사용하기"
   ]
  },
  {
   "cell_type": "code",
   "execution_count": 220,
   "id": "077d748b",
   "metadata": {
    "id": "077d748b"
   },
   "outputs": [],
   "source": [
    "from bs4 import BeautifulSoup"
   ]
  },
  {
   "cell_type": "markdown",
   "id": "880d52a6",
   "metadata": {
    "id": "880d52a6"
   },
   "source": [
    "## 전체 도서의 무게 구하기"
   ]
  },
  {
   "cell_type": "code",
   "execution_count": 221,
   "id": "d267046f",
   "metadata": {
    "id": "d267046f"
   },
   "outputs": [],
   "source": [
    "def get_gram_cnt(isbn):\n",
    "    # Yes24 도서 검색 페이지 URL\n",
    "    url = 'http://www.yes24.com/Product/Search?domain=BOOK&query={}'\n",
    "    # URL에 ISBN을 넣어 HTML 가져옵니다.\n",
    "    r = requests.get(url.format(isbn))\n",
    "    soup = BeautifulSoup(r.text, 'html.parser')   # HTML 파싱\n",
    "    # 검색 결과에서 해당 도서를 선택합니다.\n",
    "    prd_info = soup.find('a', attrs={'class':'gd_name'})\n",
    "    if prd_info == None:\n",
    "        return ''\n",
    "    # 도서 상세 페이지를 가져옵니다.\n",
    "    url = 'http://www.yes24.com'+prd_info['href']\n",
    "    r = requests.get(url)\n",
    "    soup = BeautifulSoup(r.text, 'html.parser')\n",
    "    # 상품 상세정보 div를 선택합니다.\n",
    "    prd_detail = soup.find('div', attrs={'id':'infoset_specific'})\n",
    "    # 테이블에 있는 tr 태그를 가져옵니다.\n",
    "    prd_tr_list = prd_detail.find_all('tr')\n",
    "    # 쪽수가 들어 있는 th를 찾아 td에 담긴 값을 반환합니다.\n",
    "    for tr in prd_tr_list:\n",
    "        if tr.find('th').get_text() == '쪽수, 무게, 크기':\n",
    "            return tr.find('td').get_text().split()[2]\n",
    "    return ''"
   ]
  },
  {
   "cell_type": "code",
   "execution_count": 222,
   "id": "cd7c9941",
   "metadata": {
    "colab": {
     "base_uri": "https://localhost:8080/",
     "height": 36
    },
    "id": "cd7c9941",
    "outputId": "2cfd38af-49f8-4804-e7aa-a8f0061a6653"
   },
   "outputs": [
    {
     "data": {
      "text/plain": [
       "'496g'"
      ]
     },
     "execution_count": 222,
     "metadata": {},
     "output_type": "execute_result"
    }
   ],
   "source": [
    "get_gram_cnt(9791190090018)"
   ]
  },
  {
   "cell_type": "code",
   "execution_count": 223,
   "id": "da739a0a",
   "metadata": {
    "id": "da739a0a"
   },
   "outputs": [],
   "source": [
    "top10_books = books.head(10)"
   ]
  },
  {
   "cell_type": "code",
   "execution_count": 224,
   "id": "0bff8104",
   "metadata": {
    "id": "0bff8104"
   },
   "outputs": [],
   "source": [
    "def get_gram_cnt2(row):\n",
    "    isbn = row['isbn13']\n",
    "    return get_gram_cnt(isbn)"
   ]
  },
  {
   "cell_type": "code",
   "execution_count": 225,
   "id": "fb638a9b",
   "metadata": {
    "colab": {
     "base_uri": "https://localhost:8080/"
    },
    "id": "fb638a9b",
    "outputId": "8e4a382e-1802-4b7b-aaa5-e33d24d1cecc"
   },
   "outputs": [
    {
     "name": "stdout",
     "output_type": "stream",
     "text": [
      "0    496g\n",
      "1    358g\n",
      "2    296g\n",
      "3    412g\n",
      "4    388g\n",
      "5    512g\n",
      "6    318g\n",
      "7        \n",
      "8    324g\n",
      "9    406g\n",
      "dtype: object\n"
     ]
    }
   ],
   "source": [
    "gram_count = top10_books.apply(get_gram_cnt2, axis=1)\n",
    "print(gram_count)"
   ]
  },
  {
   "cell_type": "code",
   "execution_count": 226,
   "id": "941aa1d3",
   "metadata": {
    "id": "941aa1d3"
   },
   "outputs": [],
   "source": [
    "gram_count = top10_books.apply(lambda row: get_gram_cnt(row['isbn13']), axis=1)"
   ]
  },
  {
   "cell_type": "code",
   "execution_count": 227,
   "id": "85375062",
   "metadata": {
    "colab": {
     "base_uri": "https://localhost:8080/"
    },
    "id": "85375062",
    "outputId": "7e8c04b3-7a8a-41a8-9240-657a8ad392e4",
    "scrolled": true
   },
   "outputs": [
    {
     "name": "stdout",
     "output_type": "stream",
     "text": [
      "0    496g\n",
      "1    358g\n",
      "2    296g\n",
      "3    412g\n",
      "4    388g\n",
      "5    512g\n",
      "6    318g\n",
      "7        \n",
      "8    324g\n",
      "9    406g\n",
      "Name: gram_count, dtype: object\n"
     ]
    }
   ],
   "source": [
    "gram_count.name = 'gram_count'\n",
    "print(gram_count)"
   ]
  },
  {
   "cell_type": "code",
   "execution_count": 228,
   "id": "7ac45b9f",
   "metadata": {
    "colab": {
     "base_uri": "https://localhost:8080/",
     "height": 363
    },
    "id": "7ac45b9f",
    "outputId": "6f14cfd9-112a-4e64-fa8b-5ddbe2648807",
    "scrolled": true
   },
   "outputs": [
    {
     "data": {
      "text/html": [
       "<div>\n",
       "<style scoped>\n",
       "    .dataframe tbody tr th:only-of-type {\n",
       "        vertical-align: middle;\n",
       "    }\n",
       "\n",
       "    .dataframe tbody tr th {\n",
       "        vertical-align: top;\n",
       "    }\n",
       "\n",
       "    .dataframe thead th {\n",
       "        text-align: right;\n",
       "    }\n",
       "</style>\n",
       "<table border=\"1\" class=\"dataframe\">\n",
       "  <thead>\n",
       "    <tr style=\"text-align: right;\">\n",
       "      <th></th>\n",
       "      <th>no</th>\n",
       "      <th>ranking</th>\n",
       "      <th>bookname</th>\n",
       "      <th>authors</th>\n",
       "      <th>publisher</th>\n",
       "      <th>publication_year</th>\n",
       "      <th>isbn13</th>\n",
       "      <th>gram_count</th>\n",
       "    </tr>\n",
       "  </thead>\n",
       "  <tbody>\n",
       "    <tr>\n",
       "      <th>0</th>\n",
       "      <td>1</td>\n",
       "      <td>1</td>\n",
       "      <td>우리가 빛의 속도로 갈 수 없다면 :김초엽 소설</td>\n",
       "      <td>지은이: 김초엽</td>\n",
       "      <td>허블</td>\n",
       "      <td>2019</td>\n",
       "      <td>9791190090018</td>\n",
       "      <td>496g</td>\n",
       "    </tr>\n",
       "    <tr>\n",
       "      <th>1</th>\n",
       "      <td>2</td>\n",
       "      <td>2</td>\n",
       "      <td>달러구트 꿈 백화점.이미예 장편소설</td>\n",
       "      <td>지은이: 이미예</td>\n",
       "      <td>팩토리나인</td>\n",
       "      <td>2020</td>\n",
       "      <td>9791165341909</td>\n",
       "      <td>358g</td>\n",
       "    </tr>\n",
       "    <tr>\n",
       "      <th>2</th>\n",
       "      <td>3</td>\n",
       "      <td>3</td>\n",
       "      <td>지구에서 한아뿐 :정세랑 장편소설</td>\n",
       "      <td>지은이: 정세랑</td>\n",
       "      <td>난다</td>\n",
       "      <td>2019</td>\n",
       "      <td>9791188862290</td>\n",
       "      <td>296g</td>\n",
       "    </tr>\n",
       "    <tr>\n",
       "      <th>3</th>\n",
       "      <td>4</td>\n",
       "      <td>4</td>\n",
       "      <td>시선으로부터, :정세랑 장편소설</td>\n",
       "      <td>지은이: 정세랑</td>\n",
       "      <td>문학동네</td>\n",
       "      <td>2020</td>\n",
       "      <td>9788954672214</td>\n",
       "      <td>412g</td>\n",
       "    </tr>\n",
       "    <tr>\n",
       "      <th>4</th>\n",
       "      <td>5</td>\n",
       "      <td>5</td>\n",
       "      <td>아몬드 :손원평 장편소설</td>\n",
       "      <td>지은이: 손원평</td>\n",
       "      <td>창비</td>\n",
       "      <td>2017</td>\n",
       "      <td>9788936434267</td>\n",
       "      <td>388g</td>\n",
       "    </tr>\n",
       "    <tr>\n",
       "      <th>5</th>\n",
       "      <td>6</td>\n",
       "      <td>6</td>\n",
       "      <td>피프티 피플 :정세랑 장편소설</td>\n",
       "      <td>지은이: 정세랑</td>\n",
       "      <td>창비</td>\n",
       "      <td>2016</td>\n",
       "      <td>9788936434243</td>\n",
       "      <td>512g</td>\n",
       "    </tr>\n",
       "    <tr>\n",
       "      <th>6</th>\n",
       "      <td>7</td>\n",
       "      <td>7</td>\n",
       "      <td>목소리를 드릴게요 :정세랑 소설집</td>\n",
       "      <td>지은이: 정세랑</td>\n",
       "      <td>아작</td>\n",
       "      <td>2020</td>\n",
       "      <td>9791165300005</td>\n",
       "      <td>318g</td>\n",
       "    </tr>\n",
       "    <tr>\n",
       "      <th>7</th>\n",
       "      <td>8</td>\n",
       "      <td>8</td>\n",
       "      <td>나미야 잡화점의 기적 :히가시노 게이고 장편소설</td>\n",
       "      <td>지은이: 히가시노 게이고 ;옮긴이: 양윤옥</td>\n",
       "      <td>현대문학</td>\n",
       "      <td>2012</td>\n",
       "      <td>9788972756194</td>\n",
       "      <td></td>\n",
       "    </tr>\n",
       "    <tr>\n",
       "      <th>8</th>\n",
       "      <td>9</td>\n",
       "      <td>9</td>\n",
       "      <td>선량한 차별주의자</td>\n",
       "      <td>김지혜 지음</td>\n",
       "      <td>창비</td>\n",
       "      <td>2019</td>\n",
       "      <td>9788936477196</td>\n",
       "      <td>324g</td>\n",
       "    </tr>\n",
       "    <tr>\n",
       "      <th>9</th>\n",
       "      <td>10</td>\n",
       "      <td>9</td>\n",
       "      <td>쇼코의 미소 :최은영 소설</td>\n",
       "      <td>지은이: 최은영</td>\n",
       "      <td>문학동네</td>\n",
       "      <td>2016</td>\n",
       "      <td>9788954641630</td>\n",
       "      <td>406g</td>\n",
       "    </tr>\n",
       "  </tbody>\n",
       "</table>\n",
       "</div>"
      ],
      "text/plain": [
       "   no  ranking                     bookname                  authors  \\\n",
       "0   1        1  우리가 빛의 속도로 갈 수 없다면 :김초엽 소설                  지은이: 김초엽   \n",
       "1   2        2         달러구트 꿈 백화점.이미예 장편소설                  지은이: 이미예   \n",
       "2   3        3          지구에서 한아뿐 :정세랑 장편소설                  지은이: 정세랑   \n",
       "3   4        4           시선으로부터, :정세랑 장편소설                  지은이: 정세랑   \n",
       "4   5        5               아몬드 :손원평 장편소설                  지은이: 손원평   \n",
       "5   6        6            피프티 피플 :정세랑 장편소설                  지은이: 정세랑   \n",
       "6   7        7          목소리를 드릴게요 :정세랑 소설집                  지은이: 정세랑   \n",
       "7   8        8  나미야 잡화점의 기적 :히가시노 게이고 장편소설   지은이: 히가시노 게이고 ;옮긴이: 양윤옥   \n",
       "8   9        9                   선량한 차별주의자                    김지혜 지음   \n",
       "9  10        9              쇼코의 미소 :최은영 소설                  지은이: 최은영   \n",
       "\n",
       "  publisher publication_year         isbn13 gram_count  \n",
       "0        허블             2019  9791190090018       496g  \n",
       "1     팩토리나인             2020  9791165341909       358g  \n",
       "2        난다             2019  9791188862290       296g  \n",
       "3      문학동네             2020  9788954672214       412g  \n",
       "4        창비             2017  9788936434267       388g  \n",
       "5        창비             2016  9788936434243       512g  \n",
       "6        아작             2020  9791165300005       318g  \n",
       "7      현대문학             2012  9788972756194             \n",
       "8        창비             2019  9788936477196       324g  \n",
       "9      문학동네             2016  9788954641630       406g  "
      ]
     },
     "execution_count": 228,
     "metadata": {},
     "output_type": "execute_result"
    }
   ],
   "source": [
    "top10_with_gram_count = pd.merge(top10_books, gram_count, \n",
    "                                 left_index=True, right_index=True)\n",
    "top10_with_gram_count"
   ]
  },
  {
   "cell_type": "markdown",
   "id": "7127a78f",
   "metadata": {},
   "source": [
    "### 옵션"
   ]
  },
  {
   "cell_type": "code",
   "execution_count": 229,
   "id": "c699ddf2",
   "metadata": {
    "id": "d267046f"
   },
   "outputs": [],
   "source": [
    "def get_page_cnt(isbn):\n",
    "    url = 'http://www.yes24.com/Product/Search?domain=BOOK&query={}'\n",
    "    r = requests.get(url.format(isbn))\n",
    "    soup = BeautifulSoup(r.text, 'html.parser')   # HTML 파싱\n",
    "    prd_info = soup.find('a', attrs={'class':'gd_name'})\n",
    "    if prd_info == None:\n",
    "        return ''\n",
    "    url = 'http://www.yes24.com'+prd_info['href']\n",
    "    r = requests.get(url)\n",
    "    soup = BeautifulSoup(r.text, 'html.parser')\n",
    "    prd_detail = soup.find('div', attrs={'id':'infoset_specific'})\n",
    "    prd_tr_list = prd_detail.find_all('tr')\n",
    "    for tr in prd_tr_list:\n",
    "        if tr.find('th').get_text() == '쪽수, 무게, 크기':\n",
    "            return tr.find('td').get_text().split()[0]\n",
    "    return ''"
   ]
  },
  {
   "cell_type": "code",
   "execution_count": 230,
   "id": "64984c70",
   "metadata": {
    "id": "0bff8104"
   },
   "outputs": [],
   "source": [
    "def get_page_cnt2(row):\n",
    "    isbn = row['isbn13']\n",
    "    return get_page_cnt(isbn)"
   ]
  },
  {
   "cell_type": "code",
   "execution_count": 231,
   "id": "befcaed2",
   "metadata": {
    "colab": {
     "base_uri": "https://localhost:8080/"
    },
    "id": "fb638a9b",
    "outputId": "8e4a382e-1802-4b7b-aaa5-e33d24d1cecc",
    "scrolled": true
   },
   "outputs": [
    {
     "name": "stdout",
     "output_type": "stream",
     "text": [
      "0    330쪽\n",
      "1    300쪽\n",
      "2    228쪽\n",
      "3    340쪽\n",
      "4    264쪽\n",
      "5    396쪽\n",
      "6    272쪽\n",
      "7        \n",
      "8    244쪽\n",
      "9    296쪽\n",
      "dtype: object\n"
     ]
    }
   ],
   "source": [
    "page_count = top10_books.apply(get_page_cnt2, axis=1)\n",
    "print(page_count)"
   ]
  },
  {
   "cell_type": "code",
   "execution_count": 232,
   "id": "dc28188e",
   "metadata": {
    "id": "941aa1d3"
   },
   "outputs": [],
   "source": [
    "page_count = top10_books.apply(lambda row: get_page_cnt(row['isbn13']), axis=1)"
   ]
  },
  {
   "cell_type": "code",
   "execution_count": 233,
   "id": "de5d3cae",
   "metadata": {
    "colab": {
     "base_uri": "https://localhost:8080/"
    },
    "id": "85375062",
    "outputId": "7e8c04b3-7a8a-41a8-9240-657a8ad392e4",
    "scrolled": true
   },
   "outputs": [
    {
     "name": "stdout",
     "output_type": "stream",
     "text": [
      "0    330쪽\n",
      "1    300쪽\n",
      "2    228쪽\n",
      "3    340쪽\n",
      "4    264쪽\n",
      "5    396쪽\n",
      "6    272쪽\n",
      "7        \n",
      "8    244쪽\n",
      "9    296쪽\n",
      "Name: page_count, dtype: object\n"
     ]
    }
   ],
   "source": [
    "page_count.name = 'page_count'\n",
    "print(page_count)"
   ]
  },
  {
   "cell_type": "code",
   "execution_count": 235,
   "id": "4d747007",
   "metadata": {
    "colab": {
     "base_uri": "https://localhost:8080/",
     "height": 363
    },
    "id": "7ac45b9f",
    "outputId": "6f14cfd9-112a-4e64-fa8b-5ddbe2648807",
    "scrolled": true
   },
   "outputs": [
    {
     "data": {
      "text/html": [
       "<div>\n",
       "<style scoped>\n",
       "    .dataframe tbody tr th:only-of-type {\n",
       "        vertical-align: middle;\n",
       "    }\n",
       "\n",
       "    .dataframe tbody tr th {\n",
       "        vertical-align: top;\n",
       "    }\n",
       "\n",
       "    .dataframe thead th {\n",
       "        text-align: right;\n",
       "    }\n",
       "</style>\n",
       "<table border=\"1\" class=\"dataframe\">\n",
       "  <thead>\n",
       "    <tr style=\"text-align: right;\">\n",
       "      <th></th>\n",
       "      <th>no</th>\n",
       "      <th>ranking</th>\n",
       "      <th>bookname</th>\n",
       "      <th>authors</th>\n",
       "      <th>publisher</th>\n",
       "      <th>publication_year</th>\n",
       "      <th>isbn13</th>\n",
       "      <th>gram_count</th>\n",
       "      <th>page_count</th>\n",
       "    </tr>\n",
       "  </thead>\n",
       "  <tbody>\n",
       "    <tr>\n",
       "      <th>0</th>\n",
       "      <td>1</td>\n",
       "      <td>1</td>\n",
       "      <td>우리가 빛의 속도로 갈 수 없다면 :김초엽 소설</td>\n",
       "      <td>지은이: 김초엽</td>\n",
       "      <td>허블</td>\n",
       "      <td>2019</td>\n",
       "      <td>9791190090018</td>\n",
       "      <td>496g</td>\n",
       "      <td>330쪽</td>\n",
       "    </tr>\n",
       "    <tr>\n",
       "      <th>1</th>\n",
       "      <td>2</td>\n",
       "      <td>2</td>\n",
       "      <td>달러구트 꿈 백화점.이미예 장편소설</td>\n",
       "      <td>지은이: 이미예</td>\n",
       "      <td>팩토리나인</td>\n",
       "      <td>2020</td>\n",
       "      <td>9791165341909</td>\n",
       "      <td>358g</td>\n",
       "      <td>300쪽</td>\n",
       "    </tr>\n",
       "    <tr>\n",
       "      <th>2</th>\n",
       "      <td>3</td>\n",
       "      <td>3</td>\n",
       "      <td>지구에서 한아뿐 :정세랑 장편소설</td>\n",
       "      <td>지은이: 정세랑</td>\n",
       "      <td>난다</td>\n",
       "      <td>2019</td>\n",
       "      <td>9791188862290</td>\n",
       "      <td>296g</td>\n",
       "      <td>228쪽</td>\n",
       "    </tr>\n",
       "    <tr>\n",
       "      <th>3</th>\n",
       "      <td>4</td>\n",
       "      <td>4</td>\n",
       "      <td>시선으로부터, :정세랑 장편소설</td>\n",
       "      <td>지은이: 정세랑</td>\n",
       "      <td>문학동네</td>\n",
       "      <td>2020</td>\n",
       "      <td>9788954672214</td>\n",
       "      <td>412g</td>\n",
       "      <td>340쪽</td>\n",
       "    </tr>\n",
       "    <tr>\n",
       "      <th>4</th>\n",
       "      <td>5</td>\n",
       "      <td>5</td>\n",
       "      <td>아몬드 :손원평 장편소설</td>\n",
       "      <td>지은이: 손원평</td>\n",
       "      <td>창비</td>\n",
       "      <td>2017</td>\n",
       "      <td>9788936434267</td>\n",
       "      <td>388g</td>\n",
       "      <td>264쪽</td>\n",
       "    </tr>\n",
       "    <tr>\n",
       "      <th>5</th>\n",
       "      <td>6</td>\n",
       "      <td>6</td>\n",
       "      <td>피프티 피플 :정세랑 장편소설</td>\n",
       "      <td>지은이: 정세랑</td>\n",
       "      <td>창비</td>\n",
       "      <td>2016</td>\n",
       "      <td>9788936434243</td>\n",
       "      <td>512g</td>\n",
       "      <td>396쪽</td>\n",
       "    </tr>\n",
       "    <tr>\n",
       "      <th>6</th>\n",
       "      <td>7</td>\n",
       "      <td>7</td>\n",
       "      <td>목소리를 드릴게요 :정세랑 소설집</td>\n",
       "      <td>지은이: 정세랑</td>\n",
       "      <td>아작</td>\n",
       "      <td>2020</td>\n",
       "      <td>9791165300005</td>\n",
       "      <td>318g</td>\n",
       "      <td>272쪽</td>\n",
       "    </tr>\n",
       "    <tr>\n",
       "      <th>7</th>\n",
       "      <td>8</td>\n",
       "      <td>8</td>\n",
       "      <td>나미야 잡화점의 기적 :히가시노 게이고 장편소설</td>\n",
       "      <td>지은이: 히가시노 게이고 ;옮긴이: 양윤옥</td>\n",
       "      <td>현대문학</td>\n",
       "      <td>2012</td>\n",
       "      <td>9788972756194</td>\n",
       "      <td></td>\n",
       "      <td></td>\n",
       "    </tr>\n",
       "    <tr>\n",
       "      <th>8</th>\n",
       "      <td>9</td>\n",
       "      <td>9</td>\n",
       "      <td>선량한 차별주의자</td>\n",
       "      <td>김지혜 지음</td>\n",
       "      <td>창비</td>\n",
       "      <td>2019</td>\n",
       "      <td>9788936477196</td>\n",
       "      <td>324g</td>\n",
       "      <td>244쪽</td>\n",
       "    </tr>\n",
       "    <tr>\n",
       "      <th>9</th>\n",
       "      <td>10</td>\n",
       "      <td>9</td>\n",
       "      <td>쇼코의 미소 :최은영 소설</td>\n",
       "      <td>지은이: 최은영</td>\n",
       "      <td>문학동네</td>\n",
       "      <td>2016</td>\n",
       "      <td>9788954641630</td>\n",
       "      <td>406g</td>\n",
       "      <td>296쪽</td>\n",
       "    </tr>\n",
       "  </tbody>\n",
       "</table>\n",
       "</div>"
      ],
      "text/plain": [
       "   no  ranking                     bookname                  authors  \\\n",
       "0   1        1  우리가 빛의 속도로 갈 수 없다면 :김초엽 소설                  지은이: 김초엽   \n",
       "1   2        2         달러구트 꿈 백화점.이미예 장편소설                  지은이: 이미예   \n",
       "2   3        3          지구에서 한아뿐 :정세랑 장편소설                  지은이: 정세랑   \n",
       "3   4        4           시선으로부터, :정세랑 장편소설                  지은이: 정세랑   \n",
       "4   5        5               아몬드 :손원평 장편소설                  지은이: 손원평   \n",
       "5   6        6            피프티 피플 :정세랑 장편소설                  지은이: 정세랑   \n",
       "6   7        7          목소리를 드릴게요 :정세랑 소설집                  지은이: 정세랑   \n",
       "7   8        8  나미야 잡화점의 기적 :히가시노 게이고 장편소설   지은이: 히가시노 게이고 ;옮긴이: 양윤옥   \n",
       "8   9        9                   선량한 차별주의자                    김지혜 지음   \n",
       "9  10        9              쇼코의 미소 :최은영 소설                  지은이: 최은영   \n",
       "\n",
       "  publisher publication_year         isbn13 gram_count page_count  \n",
       "0        허블             2019  9791190090018       496g       330쪽  \n",
       "1     팩토리나인             2020  9791165341909       358g       300쪽  \n",
       "2        난다             2019  9791188862290       296g       228쪽  \n",
       "3      문학동네             2020  9788954672214       412g       340쪽  \n",
       "4        창비             2017  9788936434267       388g       264쪽  \n",
       "5        창비             2016  9788936434243       512g       396쪽  \n",
       "6        아작             2020  9791165300005       318g       272쪽  \n",
       "7      현대문학             2012  9788972756194                        \n",
       "8        창비             2019  9788936477196       324g       244쪽  \n",
       "9      문학동네             2016  9788954641630       406g       296쪽  "
      ]
     },
     "execution_count": 235,
     "metadata": {},
     "output_type": "execute_result"
    }
   ],
   "source": [
    "top10_with_etc_count = pd.merge(top10_with_gram_count, page_count,\n",
    "                                 left_index=True, right_index=True)\n",
    "top10_with_etc_count"
   ]
  },
  {
   "cell_type": "code",
   "execution_count": null,
   "id": "4243ada2",
   "metadata": {},
   "outputs": [],
   "source": []
  }
 ],
 "metadata": {
  "colab": {
   "provenance": []
  },
  "kernelspec": {
   "display_name": "Python 3 (ipykernel)",
   "language": "python",
   "name": "python3"
  },
  "language_info": {
   "codemirror_mode": {
    "name": "ipython",
    "version": 3
   },
   "file_extension": ".py",
   "mimetype": "text/x-python",
   "name": "python",
   "nbconvert_exporter": "python",
   "pygments_lexer": "ipython3",
   "version": "3.9.13"
  }
 },
 "nbformat": 4,
 "nbformat_minor": 5
}
