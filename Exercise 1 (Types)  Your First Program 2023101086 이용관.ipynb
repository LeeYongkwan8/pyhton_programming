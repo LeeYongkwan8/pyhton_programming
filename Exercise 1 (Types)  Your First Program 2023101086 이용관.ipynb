{
 "cells": [
  {
   "cell_type": "markdown",
   "id": "b8d16619",
   "metadata": {},
   "source": [
    "<h3 id=\"exercise\">Exercise 1 (Types): Your First Program 2023101086 이용관</h3>\n",
    "숙제 제출시 반드시 \"Exercise 1 (Types) : Your First Program\"이라는 것과 함께, 자신의 이름과 학번을 꼭 기재하세요 (comment도 좋고, 아니면 파일이름에라도 좋고)"
   ]
  },
  {
   "cell_type": "markdown",
   "id": "ee4bb30d",
   "metadata": {},
   "source": [
    "<p>Generations of programmers have started their coding careers by simply printing \"Hello, world!\". You will be following in their footsteps.</p>\n",
    "<p>In the code cell below, use the <code>print()</code> function to print out the phrase: <code>Hello, world!</code></p>"
   ]
  },
  {
   "cell_type": "code",
   "execution_count": 1,
   "id": "ceab10a2",
   "metadata": {},
   "outputs": [],
   "source": [
    "# Write your code below and press Shift+Enter to execute "
   ]
  },
  {
   "cell_type": "code",
   "execution_count": 2,
   "id": "03e03fad",
   "metadata": {},
   "outputs": [
    {
     "name": "stdout",
     "output_type": "stream",
     "text": [
      "Hello, world!\n"
     ]
    }
   ],
   "source": [
    "print(\"Hello, world!\")"
   ]
  },
  {
   "cell_type": "markdown",
   "id": "2a575001",
   "metadata": {},
   "source": [
    "<p>Now, let's enhance your code with a comment. In the code cell below, print out the phrase: <code>Hello, world!</code> and comment it with the phrase <code>Print the traditional hello world</code> all in one line of code.</p>"
   ]
  },
  {
   "cell_type": "code",
   "execution_count": 4,
   "id": "c4f51454",
   "metadata": {},
   "outputs": [],
   "source": [
    "# Write your code below and press Shift+Enter to execute "
   ]
  },
  {
   "cell_type": "code",
   "execution_count": 5,
   "id": "01f643e2",
   "metadata": {},
   "outputs": [
    {
     "name": "stdout",
     "output_type": "stream",
     "text": [
      "Hello, world!\n"
     ]
    }
   ],
   "source": [
    "print(\"Hello, world!\") # Print the traditional hello world"
   ]
  }
 ],
 "metadata": {
  "kernelspec": {
   "display_name": "Python 3 (ipykernel)",
   "language": "python",
   "name": "python3"
  },
  "language_info": {
   "codemirror_mode": {
    "name": "ipython",
    "version": 3
   },
   "file_extension": ".py",
   "mimetype": "text/x-python",
   "name": "python",
   "nbconvert_exporter": "python",
   "pygments_lexer": "ipython3",
   "version": "3.9.13"
  }
 },
 "nbformat": 4,
 "nbformat_minor": 5
}
